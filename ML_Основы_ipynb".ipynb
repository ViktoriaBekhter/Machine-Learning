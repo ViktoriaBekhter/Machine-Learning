{
  "nbformat": 4,
  "nbformat_minor": 0,
  "metadata": {
    "colab": {
      "provenance": []
    },
    "kernelspec": {
      "name": "python3",
      "display_name": "Python 3"
    },
    "language_info": {
      "name": "python"
    }
  },
  "cells": [
    {
      "cell_type": "markdown",
      "source": [
        "Задание 1  \n",
        "Напишите программу на языке Python по вводу:\n",
        "а) Фамилии;\n",
        "б) Имени;\n",
        "в) Отчества;\n",
        "г) Год рождения;\n",
        "д) Пол;\n",
        "е) Средний балл успеваемости в формате: целая и десятичная часть (тип float).\n",
        "Выведите эту информацию на экран.\n",
        "Определите тип каждой переменной.\n",
        "\n",
        "\n"
      ],
      "metadata": {
        "id": "AZxcEtZD7bnH"
      }
    },
    {
      "cell_type": "code",
      "execution_count": null,
      "metadata": {
        "colab": {
          "base_uri": "https://localhost:8080/"
        },
        "id": "aF6AZpWs7Yoi",
        "outputId": "23ee90ef-0725-4fa2-df91-d89737eb7bab"
      },
      "outputs": [
        {
          "name": "stdout",
          "output_type": "stream",
          "text": [
            "Введите фамилию: Бехтер\n"
          ]
        }
      ],
      "source": [
        "lname = input(\"Введите фамилию: \")"
      ]
    },
    {
      "cell_type": "code",
      "source": [
        "fname = input(\"Введите имя: \")"
      ],
      "metadata": {
        "colab": {
          "base_uri": "https://localhost:8080/"
        },
        "id": "ePudXuvT7ere",
        "outputId": "2de6c560-3b27-4d03-8355-36214266c3fc"
      },
      "execution_count": null,
      "outputs": [
        {
          "name": "stdout",
          "output_type": "stream",
          "text": [
            "Введите имя: Виктория\n"
          ]
        }
      ]
    },
    {
      "cell_type": "code",
      "source": [
        "mname = input(\"Введите отчество: \")"
      ],
      "metadata": {
        "colab": {
          "base_uri": "https://localhost:8080/"
        },
        "id": "F5OjYMso7kWJ",
        "outputId": "de40e048-d4ef-48aa-b3bd-1f94aff4b38d"
      },
      "execution_count": null,
      "outputs": [
        {
          "name": "stdout",
          "output_type": "stream",
          "text": [
            "Введите отчество: Александровна\n"
          ]
        }
      ]
    },
    {
      "cell_type": "code",
      "source": [
        "year = input(\"Введите год рождения: \")"
      ],
      "metadata": {
        "colab": {
          "base_uri": "https://localhost:8080/"
        },
        "id": "t3B2bgDs7mTz",
        "outputId": "be5b7476-0bd1-4710-8fa0-8caf334286be"
      },
      "execution_count": null,
      "outputs": [
        {
          "name": "stdout",
          "output_type": "stream",
          "text": [
            "Введите год рождения: 2003\n"
          ]
        }
      ]
    },
    {
      "cell_type": "code",
      "source": [
        "пол = input(\"Введите пол: \")"
      ],
      "metadata": {
        "colab": {
          "base_uri": "https://localhost:8080/"
        },
        "id": "J2ilmn8w7kT4",
        "outputId": "fd7a5235-ce84-4b0d-e3ae-baf00f4756d9"
      },
      "execution_count": null,
      "outputs": [
        {
          "name": "stdout",
          "output_type": "stream",
          "text": [
            "Введите пол: женский\n"
          ]
        }
      ]
    },
    {
      "cell_type": "code",
      "source": [
        "mark = float(input(\"Введите средний балл: \"))"
      ],
      "metadata": {
        "colab": {
          "base_uri": "https://localhost:8080/"
        },
        "id": "8mF_Gvki7kR0",
        "outputId": "299aee36-c7b1-4b26-f53c-462f09a79aff"
      },
      "execution_count": null,
      "outputs": [
        {
          "name": "stdout",
          "output_type": "stream",
          "text": [
            "Введите средний балл: 4\n"
          ]
        }
      ]
    },
    {
      "cell_type": "code",
      "source": [
        "print(type('Бехтер'))\n",
        "print(type('Виктория'))\n",
        "print(type('Александровна'))\n",
        "print(type(2003))\n",
        "print(type('женский'))\n",
        "print(type(4))"
      ],
      "metadata": {
        "colab": {
          "base_uri": "https://localhost:8080/"
        },
        "id": "s1TMnNlj7kNB",
        "outputId": "33abb138-2ab1-4aea-8ec9-01d22bf218e7"
      },
      "execution_count": null,
      "outputs": [
        {
          "output_type": "stream",
          "name": "stdout",
          "text": [
            "<class 'str'>\n",
            "<class 'str'>\n",
            "<class 'str'>\n",
            "<class 'int'>\n",
            "<class 'str'>\n",
            "<class 'int'>\n"
          ]
        }
      ]
    },
    {
      "cell_type": "markdown",
      "source": [
        "Задание 2\n",
        "\n",
        "Научиться пользоваться циклами «for» и «while»\n"
      ],
      "metadata": {
        "id": "emjvGO4g8apk"
      }
    },
    {
      "cell_type": "code",
      "source": [
        "number = int(input(\"Введите натуральное число: \"))\n",
        "sum = 0\n",
        "for i in range(1, number+1):\n",
        "    sum += i\n",
        "print(\"Сумма чисел от 1 до\", number, \"равна\", sum)"
      ],
      "metadata": {
        "colab": {
          "base_uri": "https://localhost:8080/"
        },
        "id": "j_akiON27kKq",
        "outputId": "b814c578-1645-4f81-b740-bc31b875ff1d"
      },
      "execution_count": null,
      "outputs": [
        {
          "output_type": "stream",
          "name": "stdout",
          "text": [
            "Введите натуральное число: 48\n",
            "Сумма чисел от 1 до 48 равна 1176\n"
          ]
        }
      ]
    },
    {
      "cell_type": "code",
      "source": [
        "number = int(input(\"Введите натуральное число: \"))\n",
        "sum = 0\n",
        "i = 1\n",
        "while i <= number:\n",
        "    sum += i\n",
        "    i += 1\n",
        "print(\"Сумма чисел от 1 до\", number, \"равна\", sum)\n"
      ],
      "metadata": {
        "colab": {
          "base_uri": "https://localhost:8080/"
        },
        "id": "Df1Tb3QD7kIV",
        "outputId": "5624d0a0-694a-4810-95e5-502d58479e7d"
      },
      "execution_count": null,
      "outputs": [
        {
          "output_type": "stream",
          "name": "stdout",
          "text": [
            "Введите натуральное число: 62\n",
            "Сумма чисел от 1 до 62 равна 1953\n"
          ]
        }
      ]
    },
    {
      "cell_type": "markdown",
      "source": [
        "Задание 3\n",
        "\n",
        "Рассмотреть «ветвление» в Python"
      ],
      "metadata": {
        "id": "QLXFxxy48rIs"
      }
    },
    {
      "cell_type": "code",
      "source": [
        "x = float(input(\"Введите координату X: \"))\n",
        "y = float(input(\"Введите координату Y: \"))\n",
        "\n",
        "if x > 0 and y > 0:\n",
        "    print(\"Точка лежит в первом квадранте\")\n",
        "elif x < 0 and y > 0:\n",
        "    print(\"Точка лежит во втором квадранте\")\n",
        "elif x < 0 and y < 0:\n",
        "    print(\"Точка лежит в третьем квадранте\")\n",
        "elif x > 0 and y < 0:\n",
        "    print(\"Точка лежит в четвертом квадранте\")\n",
        "elif x == 0 and y != 0:\n",
        "    print(\"Точка лежит на оси Y\")\n",
        "elif y == 0 and x != 0:\n",
        "    print(\"Точка лежит на оси X\")\n",
        "else:\n",
        "    print(\"Точка лежит в начале координат\")"
      ],
      "metadata": {
        "colab": {
          "base_uri": "https://localhost:8080/"
        },
        "id": "FiLOxPe87kF4",
        "outputId": "184ae0e1-9ad5-4490-9ce6-d970caf43e70"
      },
      "execution_count": null,
      "outputs": [
        {
          "output_type": "stream",
          "name": "stdout",
          "text": [
            "Введите координату X: 7\n",
            "Введите координату Y: 9\n",
            "Точка лежит в первом квадранте\n"
          ]
        }
      ]
    },
    {
      "cell_type": "markdown",
      "source": [
        "Задание 4\n",
        "\n",
        "Отработать задачи с использованием конструкции «try-except»"
      ],
      "metadata": {
        "id": "4PJBdIW780bD"
      }
    },
    {
      "cell_type": "code",
      "source": [
        "def division():\n",
        "    try:\n",
        "        num1 = float(input(\"Введите первое число: \"))\n",
        "        num2 = float(input(\"Введите второе число: \"))\n",
        "        if num2 == 0:\n",
        "            print(\"Ошибка. На ноль делить нельзя\")\n",
        "        else:\n",
        "            result = num1 / num2\n",
        "            print(f\"Результат деления: {result}\")\n",
        "    except ValueError:\n",
        "        print(\"Ошибка: введите числа\")\n",
        "\n",
        "division()"
      ],
      "metadata": {
        "colab": {
          "base_uri": "https://localhost:8080/"
        },
        "id": "SBxt-8QG7kDB",
        "outputId": "41c4baac-958d-4c65-f314-23c48b19c0a2"
      },
      "execution_count": null,
      "outputs": [
        {
          "output_type": "stream",
          "name": "stdout",
          "text": [
            "Введите первое число: 44\n",
            "Введите второе число: 21\n",
            "Результат деления: 2.0952380952380953\n"
          ]
        }
      ]
    },
    {
      "cell_type": "markdown",
      "source": [
        "Задание 5\n",
        "\n",
        "Разобрать функции и пространства имен"
      ],
      "metadata": {
        "id": "A7HpB8Zc9D9W"
      }
    },
    {
      "cell_type": "code",
      "source": [
        "def factorial(n):\n",
        "    result = 1\n",
        "    i = 1\n",
        "    while i <= n:\n",
        "        result *= i\n",
        "        i += 1\n",
        "    return result\n",
        "\n",
        "number = int(input(\"Введите число: \"))\n",
        "print(f\"Факториал числа {number} равен {factorial(number)}\")"
      ],
      "metadata": {
        "colab": {
          "base_uri": "https://localhost:8080/"
        },
        "id": "6KJwUbB-9o8b",
        "outputId": "54306e3c-4496-4baa-a887-0419977bf40f"
      },
      "execution_count": null,
      "outputs": [
        {
          "output_type": "stream",
          "name": "stdout",
          "text": [
            "Введите число: 13\n",
            "Факториал числа 13 равен 6227020800\n"
          ]
        }
      ]
    }
  ]
}