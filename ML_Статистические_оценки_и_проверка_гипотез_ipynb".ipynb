{
  "nbformat": 4,
  "nbformat_minor": 0,
  "metadata": {
    "colab": {
      "provenance": []
    },
    "kernelspec": {
      "name": "python3",
      "display_name": "Python 3"
    },
    "language_info": {
      "name": "python"
    }
  },
  "cells": [
    {
      "cell_type": "markdown",
      "source": [
        "1.Выполним тест Бартлетта для проверки гипотезы о равенстве дисперсий двух выборок."
      ],
      "metadata": {
        "id": "NRTVnpzs-a2n"
      }
    },
    {
      "cell_type": "code",
      "source": [
        "import numpy as np\n",
        "from scipy import stats\n",
        "\n",
        "# Генерация двух случайных выборок\n",
        "sample1 = np.random.normal(loc=0, scale=1, size=150)\n",
        "sample2 = np.random.normal(loc=0, scale=1.5, size=150)\n",
        "\n",
        "# Выполнение теста Бартлетта\n",
        "statistic, p_value = stats.bartlett(sample1, sample2)\n",
        "\n",
        "# Вывод результатов теста\n",
        "print(\"Статистика теста:\", statistic)\n",
        "print(\"p-значение:\", p_value)\n",
        "\n",
        "if p_value < 0.05:\n",
        "    print(\"Отвергаем нулевую гипотезу о равенстве дисперсий двух выборок\")\n",
        "else:\n",
        "    print(\"Нет оснований отвергать нулевую гипотезу\")\n"
      ],
      "metadata": {
        "colab": {
          "base_uri": "https://localhost:8080/"
        },
        "id": "Zk6DqzCBhTQ7",
        "outputId": "6f6fcdbc-88e6-4db8-d84a-73a736ad8a6f"
      },
      "execution_count": null,
      "outputs": [
        {
          "output_type": "stream",
          "name": "stdout",
          "text": [
            "Статистика теста: 25.128768905442296\n",
            "p-значение: 5.362681759253106e-07\n",
            "Отвергаем нулевую гипотезу о равенстве дисперсий двух выборок\n"
          ]
        }
      ]
    },
    {
      "cell_type": "markdown",
      "source": [
        "2. Выполним однофакторный дисперсионный анализ (ANOVA) с использованием библиотеки NumPy и SciPy в языке программирования Python."
      ],
      "metadata": {
        "id": "8ueOg72q-gv_"
      }
    },
    {
      "cell_type": "code",
      "source": [
        "import numpy as np\n",
        "from scipy.stats import f_oneway\n",
        "\n",
        "# Создание трех выборок данных\n",
        "sample1 = np.random.normal(loc=0, scale=1, size=100)\n",
        "sample2 = np.random.normal(loc=0.5, scale=1, size=100)\n",
        "sample3 = np.random.normal(loc=1, scale=1, size=100)\n",
        "\n",
        "# Однофакторный дисперсионный анализ\n",
        "f_stat, p_value = f_oneway(sample1, sample2, sample3)\n",
        "\n",
        "# Вывод результатов анализа\n",
        "print(\"Результаты однофакторного дисперсионного анализа (ANOVA):\")\n",
        "print(\"F-статистика:\", f_stat)\n",
        "print(\"p-значение:\", p_value)\n",
        "\n",
        "if p_value < 0.05:\n",
        "    print(\"Нулевая гипотеза отвергается в пользу альтернативной гипотезы: средние значения хотя бы одной из групп отличаются.\")\n",
        "else:\n",
        "    print(\"Нет статистически значимых различий между средними значениями выборок.\")\n"
      ],
      "metadata": {
        "colab": {
          "base_uri": "https://localhost:8080/"
        },
        "id": "C4OkecLnioxr",
        "outputId": "bef6f849-f368-4c98-8e48-b73b5f64bf2a"
      },
      "execution_count": null,
      "outputs": [
        {
          "output_type": "stream",
          "name": "stdout",
          "text": [
            "Результаты однофакторного дисперсионного анализа (ANOVA):\n",
            "F-статистика: 19.916203883663776\n",
            "p-значение: 7.64492210803476e-09\n",
            "Нулевая гипотеза отвергается в пользу альтернативной гипотезы: средние значения хотя бы одной из групп отличаются.\n"
          ]
        }
      ]
    },
    {
      "cell_type": "markdown",
      "source": [
        "3. Выполним тест нормальности распределения с использованием критерия Шапиро-Уилка."
      ],
      "metadata": {
        "id": "jdBj8aEI-tBW"
      }
    },
    {
      "cell_type": "code",
      "execution_count": null,
      "metadata": {
        "colab": {
          "base_uri": "https://localhost:8080/"
        },
        "id": "a9yTXHwWPKhD",
        "outputId": "6d14e999-75dd-43b6-f53a-c5663b950e0b"
      },
      "outputs": [
        {
          "output_type": "stream",
          "name": "stdout",
          "text": [
            "Результат критерия Шапиро-Уилка для sample1:\n",
            "Статистика Шапиро-Уилка: 0.9967265725135803\n",
            "P-значение: 0.9981484413146973\n",
            "\n",
            "Результат критерия Шапиро-Уилка для sample2:\n",
            "Статистика Шапиро-Уилка: 0.9688252210617065\n",
            "P-значение: 0.017982972785830498\n"
          ]
        }
      ],
      "source": [
        "from scipy.stats import shapiro\n",
        "import numpy as np\n",
        "\n",
        "# Генерация двух случайных выборок данных\n",
        "sample1 = np.random.normal(loc=0, scale=1, size=100)\n",
        "sample2 = np.random.uniform(low=0, high=1, size=100)  # Генерируем не нормально распределенную выборку\n",
        "\n",
        "# Выполнение теста Шапиро-Уилка для первой выборки\n",
        "shapiro_stat1, p_value1 = shapiro(sample1)\n",
        "\n",
        "# Вывод результатов теста для первой выборки\n",
        "print(\"Результат критерия Шапиро-Уилка для sample1:\")\n",
        "print(\"Статистика Шапиро-Уилка:\", shapiro_stat1)\n",
        "print(\"P-значение:\", p_value1)\n",
        "\n",
        "# Выполнение теста Шапиро-Уилка для второй выборки\n",
        "shapiro_stat2, p_value2 = shapiro(sample2)\n",
        "\n",
        "# Вывод результатов теста для второй выборки\n",
        "print(\"\\nРезультат критерия Шапиро-Уилка для sample2:\")\n",
        "print(\"Статистика Шапиро-Уилка:\", shapiro_stat2)\n",
        "print(\"P-значение:\", p_value2)\n"
      ]
    },
    {
      "cell_type": "markdown",
      "source": [
        "4. Применим критерий Андерсона для оценки нормальности выборки:"
      ],
      "metadata": {
        "id": "hlln4jER_JKl"
      }
    },
    {
      "cell_type": "code",
      "source": [
        "from scipy.stats import anderson\n",
        "\n",
        "# Выборка данных\n",
        "sample = np.random.normal(loc=0, scale=1, size=100)\n",
        "\n",
        "# Вычисление статистики Андерсона, критических значений и уровней значимости\n",
        "anderson_stat, critical_values, significance_level = anderson(sample)\n",
        "\n",
        "# Вывод результатов\n",
        "print(\"Статистика Андерсона:\", anderson_stat)\n",
        "print(\"Критические значения:\", critical_values)\n",
        "print(\"Уровни значимости:\", significance_level)\n",
        "\n",
        "# Проверка нулевой гипотезы\n",
        "alpha = 0.05\n",
        "if anderson_stat > critical_values[2]:\n",
        "    print(\"Нулевая гипотеза отвергается в пользу альтернативной: выборка не соответствует нормальному распределению.\")\n",
        "else:\n",
        "    print(\"Нет оснований отвергать нулевую гипотезу: выборка соответствует нормальному распределению.\")\n"
      ],
      "metadata": {
        "colab": {
          "base_uri": "https://localhost:8080/"
        },
        "id": "3Z_kS4MGSng_",
        "outputId": "9435a08b-cba7-4bd4-b573-2617614ba402"
      },
      "execution_count": null,
      "outputs": [
        {
          "output_type": "stream",
          "name": "stdout",
          "text": [
            "Статистика Андерсона: 0.37566260839145116\n",
            "Критические значения: [0.555 0.632 0.759 0.885 1.053]\n",
            "Уровни значимости: [15.  10.   5.   2.5  1. ]\n",
            "Нет оснований отвергать нулевую гипотезу: выборка соответствует нормальному распределению.\n"
          ]
        }
      ]
    },
    {
      "cell_type": "markdown",
      "source": [
        "5. . Выполним тест Колмогорова-Смирнова, используя функцию kstest из модуля scipy.stats."
      ],
      "metadata": {
        "id": "khVEfKZC_NBk"
      }
    },
    {
      "cell_type": "code",
      "source": [
        "import numpy as np\n",
        "from scipy import stats\n",
        "\n",
        "# Генерация двух случайных выборок\n",
        "sample1 = np.random.normal(loc=0, scale=1, size=100)\n",
        "\n",
        "# Применение теста Колмогорова-Смирнова\n",
        "ks_stat1, p_value1 = stats.kstest(sample1, 'norm')\n",
        "\n",
        "# Вывод результатов теста\n",
        "print(\"Результаты теста Колмогорова-Смирнова для sample1:\")\n",
        "print(\"Статистика Колмогорова-Смирнова:\", ks_stat1)\n",
        "print(\"p-значение:\", p_value1)\n"
      ],
      "metadata": {
        "colab": {
          "base_uri": "https://localhost:8080/"
        },
        "id": "eIlFZoL3TNE3",
        "outputId": "940add89-2c24-4e11-c71c-8d2f40aed7b6"
      },
      "execution_count": null,
      "outputs": [
        {
          "output_type": "stream",
          "name": "stdout",
          "text": [
            "Результаты теста Колмогорова-Смирнова для sample1:\n",
            "Статистика Колмогорова-Смирнова: 0.06871295225386798\n",
            "p-значение: 0.70627058227426\n"
          ]
        }
      ]
    },
    {
      "cell_type": "markdown",
      "source": [
        "6. Выполним тест д'Агостино на K^2 (normaltest(sample)), где sample представляет собой данные, которые мы проверяем на нормальность."
      ],
      "metadata": {
        "id": "oY6cQzXX_Nds"
      }
    },
    {
      "cell_type": "code",
      "source": [
        "import numpy as np\n",
        "from scipy import stats\n",
        "\n",
        "# Генерация двух случайных выборок\n",
        "sample1 = np.random.normal(loc=0, scale=1, size=100)\n",
        "\n",
        "# Применение теста д'Агостино на K^2\n",
        "statistic1, p_value1 = stats.normaltest(sample1)\n",
        "\n",
        "# Вывод результатов теста\n",
        "print(\"Результаты теста д'Агостино на K^2 для sample1:\")\n",
        "print(\"Значение статистики:\", statistic1)\n",
        "print(\"p-значение:\", p_value1)\n"
      ],
      "metadata": {
        "colab": {
          "base_uri": "https://localhost:8080/"
        },
        "id": "M6MHkJNZVSF5",
        "outputId": "abd7181b-0868-4565-af5c-de34d0c914f5"
      },
      "execution_count": null,
      "outputs": [
        {
          "output_type": "stream",
          "name": "stdout",
          "text": [
            "Результаты теста д'Агостино на K^2 для sample1:\n",
            "Значение статистики: 11.248187894450293\n",
            "p-значение: 0.00360983235337088\n"
          ]
        }
      ]
    },
    {
      "cell_type": "markdown",
      "source": [
        "7. Выполним корреляционный тест (Пирсона): stats.pearsonr(sample1, sample2) вычисляет коэффициент корреляции Пирсона и p-значение для двух выборок sample1 и sample2."
      ],
      "metadata": {
        "id": "DwAbl4RT_Y6M"
      }
    },
    {
      "cell_type": "code",
      "source": [
        "import numpy as np\n",
        "from scipy import stats\n",
        "\n",
        "# Генерация двух случайных выборок\n",
        "sample1 = np.random.normal(loc=0, scale=1, size=100)\n",
        "sample2 = np.random.uniform(low=-1, high=1, size=100)\n",
        "\n",
        "# Корреляционный тест (Пирсона)\n",
        "pearson_corr, pearson_p_value = stats.pearsonr(sample1, sample2)\n",
        "\n",
        "# Вывод результатов корреляционного теста (Пирсона)\n",
        "print(\"Результаты корреляционного теста (Пирсона):\")\n",
        "print(\"Коэффициент корреляции Пирсона:\", pearson_corr)\n",
        "print(\"p-значение:\", pearson_p_value)\n",
        "\n",
        "# Проверка статистической значимости\n",
        "alpha = 0.05\n",
        "if pearson_p_value < alpha:\n",
        "    print(\"\\nНулевая гипотеза о незначимости корреляции отвергается в пользу альтернативной гипотезы.\")\n",
        "else:\n",
        "    print(\"\\nНет оснований отвергать нулевую гипотезу о незначимости корреляции.\")\n"
      ],
      "metadata": {
        "colab": {
          "base_uri": "https://localhost:8080/"
        },
        "id": "5e1GC_ObXKrv",
        "outputId": "4f996b3b-7b05-4dee-a70f-073fab3189e9"
      },
      "execution_count": null,
      "outputs": [
        {
          "output_type": "stream",
          "name": "stdout",
          "text": [
            "Результаты корреляционного теста (Пирсона):\n",
            "Коэффициент корреляции Пирсона: 0.05990047548425008\n",
            "p-значение: 0.5538467430427364\n",
            "\n",
            "Нет оснований отвергать нулевую гипотезу о незначимости корреляции.\n"
          ]
        }
      ]
    },
    {
      "cell_type": "markdown",
      "source": [
        "8. . Проведем корреляционный тест Спирмена Вызывается функция spearmanr() из модуля stats для расчета коэффициента корреляции Спирмена (spearman_corr) и p-значения (p_value) между sample1 и sample2, выводятся результаты корреляционного анализа, включая коэффициент корреляции Спирмена и соответствующее p-значение."
      ],
      "metadata": {
        "id": "XHvN31hJ_efc"
      }
    },
    {
      "cell_type": "code",
      "source": [
        "import numpy as np\n",
        "from scipy import stats\n",
        "\n",
        "# Генерация двух случайных выборок\n",
        "sample1 = np.random.normal(loc=0, scale=1, size=100)\n",
        "sample2 = np.random.uniform(low=-1, high=1, size=100)\n",
        "\n",
        "# Корреляционный тест (Спирмена)\n",
        "spearman_corr, p_value = stats.spearmanr(sample1, sample2)\n",
        "\n",
        "# Вывод результатов корреляционного теста (Спирмена)\n",
        "print(\"Результаты корреляционного теста (Спирмена):\")\n",
        "print(\"Коэффициент корреляции Спирмена:\", spearman_corr)\n",
        "print(\"p-значение:\", p_value)\n",
        "\n",
        "# Проверка статистической значимости\n",
        "alpha = 0.05\n",
        "if p_value < alpha:\n",
        "    print(\"\\nНулевая гипотеза о незначимости корреляции отвергается в пользу альтернативной гипотезы.\")\n",
        "else:\n",
        "    print(\"\\nНет оснований отвергать нулевую гипотезу о незначимости корреляции.\")\n"
      ],
      "metadata": {
        "colab": {
          "base_uri": "https://localhost:8080/"
        },
        "id": "6N3hmAH6YL3V",
        "outputId": "cca01d23-361f-40e6-e925-8895bd29f63f"
      },
      "execution_count": null,
      "outputs": [
        {
          "output_type": "stream",
          "name": "stdout",
          "text": [
            "Результаты корреляционного теста (Спирмена):\n",
            "Коэффициент корреляции Спирмена: 0.23865586558655863\n",
            "p-значение: 0.016792701121379563\n",
            "\n",
            "Нулевая гипотеза о незначимости корреляции отвергается в пользу альтернативной гипотезы.\n"
          ]
        }
      ]
    },
    {
      "cell_type": "markdown",
      "source": [
        "9. Расчет коэффициента корреляции Кендалла и соответствующего P-значения с использованием функции kendalltau."
      ],
      "metadata": {
        "id": "MjOCSCpD_ihr"
      }
    },
    {
      "cell_type": "code",
      "source": [
        "import numpy as np\n",
        "from scipy import stats\n",
        "\n",
        "# Генерация двух случайных выборок\n",
        "sample1 = np.random.normal(loc=0, scale=1, size=100)\n",
        "\n",
        "# Расчет коэффициента корреляции Кендалла и p-значения\n",
        "kendall_corr, p_value = stats.kendalltau(sample1, sample2)\n",
        "\n",
        "# Вывод результатов коэффициента корреляции Кендалла и p-значения\n",
        "print(\"Результаты коэффициента корреляции Кендалла и p-значения:\")\n",
        "print(\"Коэффициент корреляции Кендалла:\", kendall_corr)\n",
        "print(\"p-значение:\", p_value)\n",
        "\n",
        "# Проверка статистической значимости\n",
        "alpha = 0.05\n",
        "if p_value < alpha:\n",
        "    print(\"\\nНулевая гипотеза о незначимости корреляции отвергается в пользу альтернативной гипотезы.\")\n",
        "else:\n",
        "    print(\"\\nНет оснований отвергать нулевую гипотезу о незначимости корреляции.\")\n"
      ],
      "metadata": {
        "colab": {
          "base_uri": "https://localhost:8080/"
        },
        "id": "bpbIUs7QZzIQ",
        "outputId": "a7e756d2-3bb7-4872-a393-5b2feef803c0"
      },
      "execution_count": null,
      "outputs": [
        {
          "output_type": "stream",
          "name": "stdout",
          "text": [
            "Результаты коэффициента корреляции Кендалла и p-значения:\n",
            "Коэффициент корреляции Кендалла: 0.1777777777777778\n",
            "p-значение: 0.00877384347150606\n",
            "\n",
            "Нулевая гипотеза о незначимости корреляции отвергается в пользу альтернативной гипотезы.\n"
          ]
        }
      ]
    },
    {
      "cell_type": "markdown",
      "source": [
        "10. Проведем тест хи-квадрат"
      ],
      "metadata": {
        "id": "4hSsh52H_mVz"
      }
    },
    {
      "cell_type": "code",
      "source": [
        "import pandas as pd\n",
        "from scipy import stats\n",
        "\n",
        "# Генерация двух случайных выборок\n",
        "data = {\n",
        "    'GroupA': [10, 15, 20],\n",
        "    'GroupB': [5, 10, 15],\n",
        "    'GroupC': [8, 12, 18]\n",
        "}\n",
        "\n",
        "# Создание таблицы с данными\n",
        "observed_table = pd.DataFrame(data, index=['Category1', 'Category2', 'Category3'])\n",
        "\n",
        "# Выполнение теста хи-квадрат\n",
        "result = stats.chisquare(observed_table, axis=None)\n",
        "\n",
        "# Вывод результатов теста\n",
        "print(\"Значение статистики хи-квадрат:\", result.statistic)\n",
        "print(\"p-значение:\", result.pvalue)\n",
        "\n",
        "# Проверка статистической значимости\n",
        "alpha = 0.05\n",
        "if result.pvalue < alpha:\n",
        "    print(\"\\nНулевая гипотеза о независимости отвергается в пользу альтернативной гипотезы.\")\n",
        "else:\n",
        "    print(\"\\nНет оснований отвергать нулевую гипотезу о независимости.\")\n"
      ],
      "metadata": {
        "colab": {
          "base_uri": "https://localhost:8080/"
        },
        "id": "NtrD8hhCad6C",
        "outputId": "be9cfeff-281a-4582-abb5-aa40bb492132"
      },
      "execution_count": null,
      "outputs": [
        {
          "output_type": "stream",
          "name": "stdout",
          "text": [
            "Значение статистики хи-квадрат: 14.991150442477878\n",
            "p-значение: 0.0593177625138075\n",
            "\n",
            "Нет оснований отвергать нулевую гипотезу о независимости.\n"
          ]
        }
      ]
    },
    {
      "cell_type": "markdown",
      "source": [
        "11. Проведем U-теста Манна-Уитни"
      ],
      "metadata": {
        "id": "cjbfxK31_pwy"
      }
    },
    {
      "cell_type": "code",
      "source": [
        "import numpy as np\n",
        "from scipy.stats import mannwhitneyu\n",
        "\n",
        "# Генерация двух случайных выборок\n",
        "sample1 = np.random.normal(0, 1, 100)\n",
        "sample2 = np.random.normal(0, 1, 100)\n",
        "\n",
        "# Проведение U-теста Манна-Уитни\n",
        "statistic, p_value = mannwhitneyu(sample1, sample2, alternative='two-sided')\n",
        "\n",
        "# Вывод результатов теста\n",
        "print(\"Статистика U:\", statistic)\n",
        "print(\"p-значение:\", p_value)\n",
        "\n",
        "# Проверка статистической значимости\n",
        "alpha = 0.05\n",
        "if p_value < alpha:\n",
        "    print(\"\\nНулевая гипотеза о равенстве распределений отвергается в пользу альтернативной гипотезы.\")\n",
        "else:\n",
        "    print(\"\\nНет достаточных доказательств для отвержения нулевой гипотезы о равенстве распределений.\")\n"
      ],
      "metadata": {
        "colab": {
          "base_uri": "https://localhost:8080/"
        },
        "id": "kLRxGnpxbDWq",
        "outputId": "c9ecf3ec-d0ea-4e02-acba-21e7be566964"
      },
      "execution_count": null,
      "outputs": [
        {
          "output_type": "stream",
          "name": "stdout",
          "text": [
            "Статистика U: 4510.0\n",
            "p-значение: 0.2316813946907771\n",
            "\n",
            "Нет достаточных доказательств для отвержения нулевой гипотезы о равенстве распределений.\n"
          ]
        }
      ]
    },
    {
      "cell_type": "markdown",
      "source": [
        "12. Проведем тест Уилкоксона со знаком. Вызываем функцию wilcoxon() и передаем ей две группы данных, чтобы получить статистику и P-значение."
      ],
      "metadata": {
        "id": "rdkCPmKR_uQz"
      }
    },
    {
      "cell_type": "code",
      "source": [
        "import numpy as np\n",
        "from scipy.stats import wilcoxon\n",
        "\n",
        "# Генерация двух случайных парных выборок\n",
        "group1 = np.random.normal(0, 1, 100)\n",
        "group2 = group1 + np.random.normal(0.5, 1.2, 100)\n",
        "\n",
        "# Проведение теста Уилкоксона со знаком\n",
        "statistic, p_value = wilcoxon(group1, group2)\n",
        "\n",
        "# Вывод результатов теста\n",
        "print(\"Статистика Уилкоксона:\", statistic)\n",
        "print(\"p-значение:\", p_value)\n",
        "\n",
        "# Проверка статистической значимости\n",
        "alpha = 0.05\n",
        "if p_value < alpha:\n",
        "    print(\"\\nНулевая гипотеза о равенстве групп отвергается в пользу альтернативной гипотезы.\")\n",
        "else:\n",
        "    print(\"\\nНет достаточных доказательств для отвержения нулевой гипотезы о равенстве групп.\")\n"
      ],
      "metadata": {
        "colab": {
          "base_uri": "https://localhost:8080/"
        },
        "id": "yhpWMhyCbsA2",
        "outputId": "d1b7d148-470e-4851-8d34-85f1f70dbab0"
      },
      "execution_count": null,
      "outputs": [
        {
          "output_type": "stream",
          "name": "stdout",
          "text": [
            "Статистика Уилкоксона: 1087.0\n",
            "p-значение: 7.641358460082315e-07\n",
            "\n",
            "Нулевая гипотеза о равенстве групп отвергается в пользу альтернативной гипотезы.\n"
          ]
        }
      ]
    },
    {
      "cell_type": "code",
      "source": [
        "import numpy as np\n",
        "from scipy import stats\n",
        "\n",
        "# Генерация двух случайных выборок\n",
        "sample1 = np.random.normal(loc=0, scale=1, size=100)\n",
        "sample2 = np.random.uniform(low=-1, high=1, size=100)\n",
        "\n",
        "# Расчет коэффициента корреляции Кендалла и p-значения\n",
        "kendall_corr, p_value = stats.kendalltau(sample1, sample2)\n",
        "\n",
        "# Вывод результатов коэффициента корреляции Кендалла и p-значения\n",
        "print(\"Результаты коэффициента корреляции Кендалла и p-значения:\")\n",
        "print(\"Коэффициент корреляции Кендалла:\", kendall_corr)\n",
        "print(\"p-значение:\", p_value)\n",
        "\n",
        "# Проверка статистической значимости\n",
        "alpha = 0.05\n",
        "if p_value < alpha:\n",
        "    print(\"\\nНулевая гипотеза о незначимости корреляции отвергается в пользу альтернативной гипотезы.\")\n",
        "else:\n",
        "    print(\"\\nНет оснований отвергать нулевую гипотезу о незначимости корреляции.\")\n"
      ],
      "metadata": {
        "colab": {
          "base_uri": "https://localhost:8080/"
        },
        "id": "0E5TGLXWccwN",
        "outputId": "5aabe24f-4fd0-4545-ad25-d7e40acb59fa"
      },
      "execution_count": null,
      "outputs": [
        {
          "output_type": "stream",
          "name": "stdout",
          "text": [
            "Результаты коэффициента корреляции Кендалла и p-значения:\n",
            "Коэффициент корреляции Кендалла: 0.17979797979797982\n",
            "p-значение: 0.008036703121916011\n",
            "\n",
            "Нулевая гипотеза о незначимости корреляции отвергается в пользу альтернативной гипотезы.\n"
          ]
        }
      ]
    },
    {
      "cell_type": "markdown",
      "source": [
        "14. Применим тест Крускала-Уоллиса"
      ],
      "metadata": {
        "id": "8hLiK-UmAv2x"
      }
    },
    {
      "cell_type": "code",
      "source": [
        "import numpy as np\n",
        "from scipy.stats import kruskal\n",
        "\n",
        "# Генерация трех случайных выборок\n",
        "sample1 = np.random.normal(0, 1, 10)\n",
        "sample2 = np.random.normal(0.5, 1.2, 10)\n",
        "sample3 = np.random.normal(1, 0.8, 10)\n",
        "\n",
        "# Проведение теста Крускала-Уоллиса\n",
        "statistic, p_value = kruskal(sample1, sample2, sample3)\n",
        "\n",
        "# Вывод результатов теста\n",
        "print(\"Статистика теста Крускала-Уоллиса:\", statistic)\n",
        "print(\"p-значение:\", p_value)\n",
        "\n",
        "# Проверка статистической значимости\n",
        "alpha = 0.05\n",
        "if p_value < alpha:\n",
        "    print(\"\\nНулевая гипотеза о равенстве групп отвергается в пользу альтернативной гипотезы.\")\n",
        "else:\n",
        "    print(\"\\nНет достаточных доказательств для отвержения нулевой гипотезы о равенстве групп.\")\n",
        "\n"
      ],
      "metadata": {
        "colab": {
          "base_uri": "https://localhost:8080/"
        },
        "id": "PWgNvsK0dxLf",
        "outputId": "12144123-fcbc-4da8-aae6-fb381a09b48b"
      },
      "execution_count": null,
      "outputs": [
        {
          "output_type": "stream",
          "name": "stdout",
          "text": [
            "Статистика теста Крускала-Уоллиса: 3.3316129032258033\n",
            "p-значение: 0.18903814637558772\n",
            "\n",
            "Нет достаточных доказательств для отвержения нулевой гипотезы о равенстве групп.\n"
          ]
        }
      ]
    },
    {
      "cell_type": "markdown",
      "source": [
        "Проведем тест Фридмана."
      ],
      "metadata": {
        "id": "c9Ncx6lL_-Yi"
      }
    },
    {
      "cell_type": "code",
      "source": [
        "import numpy as np\n",
        "from scipy.stats import friedmanchisquare\n",
        "\n",
        "# Создание трех выборок данных\n",
        "sample1 = np.random.normal(50, 10, 100)\n",
        "sample2 = np.random.normal(55, 12, 100)\n",
        "sample3 = np.random.normal(48, 8, 100)\n",
        "\n",
        "# Применение теста Фридмана\n",
        "statistic, p_value = friedmanchisquare(sample1, sample2, sample3)\n",
        "\n",
        "# Вывод результатов анализа\n",
        "print(\"Статистика Фридмана:\", statistic)\n",
        "print(\"p-значение:\", p_value)\n",
        "\n",
        "# Проверка наличия статистически значимой разницы\n",
        "alpha = 0.05\n",
        "if p_value < alpha:\n",
        "    print(\"Отвергаем нулевую гипотезу: существует статистически значимая разница между значениями внутри групп.\")\n",
        "else:\n",
        "    print(\"Нет достаточных доказательств для отвержения нулевой гипотезы.\")\n"
      ],
      "metadata": {
        "colab": {
          "base_uri": "https://localhost:8080/"
        },
        "id": "_ti1LFW0fYpo",
        "outputId": "23abe08a-3238-40e7-8ae0-a512845e0595"
      },
      "execution_count": null,
      "outputs": [
        {
          "output_type": "stream",
          "name": "stdout",
          "text": [
            "Статистика Фридмана: 13.819999999999936\n",
            "p-значение: 0.0009977577964843437\n",
            "Отвергаем нулевую гипотезу: существует статистически значимая разница между значениями внутри групп.\n"
          ]
        }
      ]
    }
  ]
}