{
  "nbformat": 4,
  "nbformat_minor": 0,
  "metadata": {
    "colab": {
      "provenance": []
    },
    "kernelspec": {
      "name": "python3",
      "display_name": "Python 3"
    },
    "language_info": {
      "name": "python"
    }
  },
  "cells": [
    {
      "cell_type": "markdown",
      "source": [
        "1. Загрузить файл \"insurance2.csv\". Вывести содержание файла на экран и скопировать в отчет."
      ],
      "metadata": {
        "id": "xl6wFjnwiJvQ"
      }
    },
    {
      "cell_type": "markdown",
      "source": [
        "2. Импортировать необходимые библиотеки"
      ],
      "metadata": {
        "id": "oVBXlfkWjd0V"
      }
    },
    {
      "cell_type": "code",
      "source": [
        "import pandas as pd\n",
        "import numpy as np\n",
        "import matplotlib.pyplot as plt"
      ],
      "metadata": {
        "id": "QG_tbUK6h5pi"
      },
      "execution_count": null,
      "outputs": []
    },
    {
      "cell_type": "code",
      "source": [
        "df_1 = pd.read_csv('insurance2.csv')\n",
        "df_1.head()"
      ],
      "metadata": {
        "colab": {
          "base_uri": "https://localhost:8080/",
          "height": 206
        },
        "id": "3gYcx9MNifR4",
        "outputId": "8fdd4ba1-d82d-47cb-dcc9-b3dfa029b87c"
      },
      "execution_count": null,
      "outputs": [
        {
          "output_type": "execute_result",
          "data": {
            "text/plain": [
              "   age  sex     bmi  children  smoker  region      charges  insuranceclaim\n",
              "0   19    0  27.900         0       1       3  16884.92400               1\n",
              "1   18    1  33.770         1       0       2   1725.55230               1\n",
              "2   28    1  33.000         3       0       2   4449.46200               0\n",
              "3   33    1  22.705         0       0       1  21984.47061               0\n",
              "4   32    1  28.880         0       0       1   3866.85520               1"
            ],
            "text/html": [
              "\n",
              "  <div id=\"df-c36dca9a-b2d4-474d-8f03-22ce9adeed55\" class=\"colab-df-container\">\n",
              "    <div>\n",
              "<style scoped>\n",
              "    .dataframe tbody tr th:only-of-type {\n",
              "        vertical-align: middle;\n",
              "    }\n",
              "\n",
              "    .dataframe tbody tr th {\n",
              "        vertical-align: top;\n",
              "    }\n",
              "\n",
              "    .dataframe thead th {\n",
              "        text-align: right;\n",
              "    }\n",
              "</style>\n",
              "<table border=\"1\" class=\"dataframe\">\n",
              "  <thead>\n",
              "    <tr style=\"text-align: right;\">\n",
              "      <th></th>\n",
              "      <th>age</th>\n",
              "      <th>sex</th>\n",
              "      <th>bmi</th>\n",
              "      <th>children</th>\n",
              "      <th>smoker</th>\n",
              "      <th>region</th>\n",
              "      <th>charges</th>\n",
              "      <th>insuranceclaim</th>\n",
              "    </tr>\n",
              "  </thead>\n",
              "  <tbody>\n",
              "    <tr>\n",
              "      <th>0</th>\n",
              "      <td>19</td>\n",
              "      <td>0</td>\n",
              "      <td>27.900</td>\n",
              "      <td>0</td>\n",
              "      <td>1</td>\n",
              "      <td>3</td>\n",
              "      <td>16884.92400</td>\n",
              "      <td>1</td>\n",
              "    </tr>\n",
              "    <tr>\n",
              "      <th>1</th>\n",
              "      <td>18</td>\n",
              "      <td>1</td>\n",
              "      <td>33.770</td>\n",
              "      <td>1</td>\n",
              "      <td>0</td>\n",
              "      <td>2</td>\n",
              "      <td>1725.55230</td>\n",
              "      <td>1</td>\n",
              "    </tr>\n",
              "    <tr>\n",
              "      <th>2</th>\n",
              "      <td>28</td>\n",
              "      <td>1</td>\n",
              "      <td>33.000</td>\n",
              "      <td>3</td>\n",
              "      <td>0</td>\n",
              "      <td>2</td>\n",
              "      <td>4449.46200</td>\n",
              "      <td>0</td>\n",
              "    </tr>\n",
              "    <tr>\n",
              "      <th>3</th>\n",
              "      <td>33</td>\n",
              "      <td>1</td>\n",
              "      <td>22.705</td>\n",
              "      <td>0</td>\n",
              "      <td>0</td>\n",
              "      <td>1</td>\n",
              "      <td>21984.47061</td>\n",
              "      <td>0</td>\n",
              "    </tr>\n",
              "    <tr>\n",
              "      <th>4</th>\n",
              "      <td>32</td>\n",
              "      <td>1</td>\n",
              "      <td>28.880</td>\n",
              "      <td>0</td>\n",
              "      <td>0</td>\n",
              "      <td>1</td>\n",
              "      <td>3866.85520</td>\n",
              "      <td>1</td>\n",
              "    </tr>\n",
              "  </tbody>\n",
              "</table>\n",
              "</div>\n",
              "    <div class=\"colab-df-buttons\">\n",
              "\n",
              "  <div class=\"colab-df-container\">\n",
              "    <button class=\"colab-df-convert\" onclick=\"convertToInteractive('df-c36dca9a-b2d4-474d-8f03-22ce9adeed55')\"\n",
              "            title=\"Convert this dataframe to an interactive table.\"\n",
              "            style=\"display:none;\">\n",
              "\n",
              "  <svg xmlns=\"http://www.w3.org/2000/svg\" height=\"24px\" viewBox=\"0 -960 960 960\">\n",
              "    <path d=\"M120-120v-720h720v720H120Zm60-500h600v-160H180v160Zm220 220h160v-160H400v160Zm0 220h160v-160H400v160ZM180-400h160v-160H180v160Zm440 0h160v-160H620v160ZM180-180h160v-160H180v160Zm440 0h160v-160H620v160Z\"/>\n",
              "  </svg>\n",
              "    </button>\n",
              "\n",
              "  <style>\n",
              "    .colab-df-container {\n",
              "      display:flex;\n",
              "      gap: 12px;\n",
              "    }\n",
              "\n",
              "    .colab-df-convert {\n",
              "      background-color: #E8F0FE;\n",
              "      border: none;\n",
              "      border-radius: 50%;\n",
              "      cursor: pointer;\n",
              "      display: none;\n",
              "      fill: #1967D2;\n",
              "      height: 32px;\n",
              "      padding: 0 0 0 0;\n",
              "      width: 32px;\n",
              "    }\n",
              "\n",
              "    .colab-df-convert:hover {\n",
              "      background-color: #E2EBFA;\n",
              "      box-shadow: 0px 1px 2px rgba(60, 64, 67, 0.3), 0px 1px 3px 1px rgba(60, 64, 67, 0.15);\n",
              "      fill: #174EA6;\n",
              "    }\n",
              "\n",
              "    .colab-df-buttons div {\n",
              "      margin-bottom: 4px;\n",
              "    }\n",
              "\n",
              "    [theme=dark] .colab-df-convert {\n",
              "      background-color: #3B4455;\n",
              "      fill: #D2E3FC;\n",
              "    }\n",
              "\n",
              "    [theme=dark] .colab-df-convert:hover {\n",
              "      background-color: #434B5C;\n",
              "      box-shadow: 0px 1px 3px 1px rgba(0, 0, 0, 0.15);\n",
              "      filter: drop-shadow(0px 1px 2px rgba(0, 0, 0, 0.3));\n",
              "      fill: #FFFFFF;\n",
              "    }\n",
              "  </style>\n",
              "\n",
              "    <script>\n",
              "      const buttonEl =\n",
              "        document.querySelector('#df-c36dca9a-b2d4-474d-8f03-22ce9adeed55 button.colab-df-convert');\n",
              "      buttonEl.style.display =\n",
              "        google.colab.kernel.accessAllowed ? 'block' : 'none';\n",
              "\n",
              "      async function convertToInteractive(key) {\n",
              "        const element = document.querySelector('#df-c36dca9a-b2d4-474d-8f03-22ce9adeed55');\n",
              "        const dataTable =\n",
              "          await google.colab.kernel.invokeFunction('convertToInteractive',\n",
              "                                                    [key], {});\n",
              "        if (!dataTable) return;\n",
              "\n",
              "        const docLinkHtml = 'Like what you see? Visit the ' +\n",
              "          '<a target=\"_blank\" href=https://colab.research.google.com/notebooks/data_table.ipynb>data table notebook</a>'\n",
              "          + ' to learn more about interactive tables.';\n",
              "        element.innerHTML = '';\n",
              "        dataTable['output_type'] = 'display_data';\n",
              "        await google.colab.output.renderOutput(dataTable, element);\n",
              "        const docLink = document.createElement('div');\n",
              "        docLink.innerHTML = docLinkHtml;\n",
              "        element.appendChild(docLink);\n",
              "      }\n",
              "    </script>\n",
              "  </div>\n",
              "\n",
              "\n",
              "<div id=\"df-0180f25a-bf0f-45cd-bbb3-ba269a4a3b6d\">\n",
              "  <button class=\"colab-df-quickchart\" onclick=\"quickchart('df-0180f25a-bf0f-45cd-bbb3-ba269a4a3b6d')\"\n",
              "            title=\"Suggest charts\"\n",
              "            style=\"display:none;\">\n",
              "\n",
              "<svg xmlns=\"http://www.w3.org/2000/svg\" height=\"24px\"viewBox=\"0 0 24 24\"\n",
              "     width=\"24px\">\n",
              "    <g>\n",
              "        <path d=\"M19 3H5c-1.1 0-2 .9-2 2v14c0 1.1.9 2 2 2h14c1.1 0 2-.9 2-2V5c0-1.1-.9-2-2-2zM9 17H7v-7h2v7zm4 0h-2V7h2v10zm4 0h-2v-4h2v4z\"/>\n",
              "    </g>\n",
              "</svg>\n",
              "  </button>\n",
              "\n",
              "<style>\n",
              "  .colab-df-quickchart {\n",
              "      --bg-color: #E8F0FE;\n",
              "      --fill-color: #1967D2;\n",
              "      --hover-bg-color: #E2EBFA;\n",
              "      --hover-fill-color: #174EA6;\n",
              "      --disabled-fill-color: #AAA;\n",
              "      --disabled-bg-color: #DDD;\n",
              "  }\n",
              "\n",
              "  [theme=dark] .colab-df-quickchart {\n",
              "      --bg-color: #3B4455;\n",
              "      --fill-color: #D2E3FC;\n",
              "      --hover-bg-color: #434B5C;\n",
              "      --hover-fill-color: #FFFFFF;\n",
              "      --disabled-bg-color: #3B4455;\n",
              "      --disabled-fill-color: #666;\n",
              "  }\n",
              "\n",
              "  .colab-df-quickchart {\n",
              "    background-color: var(--bg-color);\n",
              "    border: none;\n",
              "    border-radius: 50%;\n",
              "    cursor: pointer;\n",
              "    display: none;\n",
              "    fill: var(--fill-color);\n",
              "    height: 32px;\n",
              "    padding: 0;\n",
              "    width: 32px;\n",
              "  }\n",
              "\n",
              "  .colab-df-quickchart:hover {\n",
              "    background-color: var(--hover-bg-color);\n",
              "    box-shadow: 0 1px 2px rgba(60, 64, 67, 0.3), 0 1px 3px 1px rgba(60, 64, 67, 0.15);\n",
              "    fill: var(--button-hover-fill-color);\n",
              "  }\n",
              "\n",
              "  .colab-df-quickchart-complete:disabled,\n",
              "  .colab-df-quickchart-complete:disabled:hover {\n",
              "    background-color: var(--disabled-bg-color);\n",
              "    fill: var(--disabled-fill-color);\n",
              "    box-shadow: none;\n",
              "  }\n",
              "\n",
              "  .colab-df-spinner {\n",
              "    border: 2px solid var(--fill-color);\n",
              "    border-color: transparent;\n",
              "    border-bottom-color: var(--fill-color);\n",
              "    animation:\n",
              "      spin 1s steps(1) infinite;\n",
              "  }\n",
              "\n",
              "  @keyframes spin {\n",
              "    0% {\n",
              "      border-color: transparent;\n",
              "      border-bottom-color: var(--fill-color);\n",
              "      border-left-color: var(--fill-color);\n",
              "    }\n",
              "    20% {\n",
              "      border-color: transparent;\n",
              "      border-left-color: var(--fill-color);\n",
              "      border-top-color: var(--fill-color);\n",
              "    }\n",
              "    30% {\n",
              "      border-color: transparent;\n",
              "      border-left-color: var(--fill-color);\n",
              "      border-top-color: var(--fill-color);\n",
              "      border-right-color: var(--fill-color);\n",
              "    }\n",
              "    40% {\n",
              "      border-color: transparent;\n",
              "      border-right-color: var(--fill-color);\n",
              "      border-top-color: var(--fill-color);\n",
              "    }\n",
              "    60% {\n",
              "      border-color: transparent;\n",
              "      border-right-color: var(--fill-color);\n",
              "    }\n",
              "    80% {\n",
              "      border-color: transparent;\n",
              "      border-right-color: var(--fill-color);\n",
              "      border-bottom-color: var(--fill-color);\n",
              "    }\n",
              "    90% {\n",
              "      border-color: transparent;\n",
              "      border-bottom-color: var(--fill-color);\n",
              "    }\n",
              "  }\n",
              "</style>\n",
              "\n",
              "  <script>\n",
              "    async function quickchart(key) {\n",
              "      const quickchartButtonEl =\n",
              "        document.querySelector('#' + key + ' button');\n",
              "      quickchartButtonEl.disabled = true;  // To prevent multiple clicks.\n",
              "      quickchartButtonEl.classList.add('colab-df-spinner');\n",
              "      try {\n",
              "        const charts = await google.colab.kernel.invokeFunction(\n",
              "            'suggestCharts', [key], {});\n",
              "      } catch (error) {\n",
              "        console.error('Error during call to suggestCharts:', error);\n",
              "      }\n",
              "      quickchartButtonEl.classList.remove('colab-df-spinner');\n",
              "      quickchartButtonEl.classList.add('colab-df-quickchart-complete');\n",
              "    }\n",
              "    (() => {\n",
              "      let quickchartButtonEl =\n",
              "        document.querySelector('#df-0180f25a-bf0f-45cd-bbb3-ba269a4a3b6d button');\n",
              "      quickchartButtonEl.style.display =\n",
              "        google.colab.kernel.accessAllowed ? 'block' : 'none';\n",
              "    })();\n",
              "  </script>\n",
              "</div>\n",
              "    </div>\n",
              "  </div>\n"
            ]
          },
          "metadata": {},
          "execution_count": 2
        }
      ]
    },
    {
      "cell_type": "markdown",
      "source": [
        "3. Получить информацию о наборе данных, используя методы dtypes и info(). print(info()). Вывести эту информацию на экран и скопировать в отчет."
      ],
      "metadata": {
        "id": "Ua7zJAY8jjD5"
      }
    },
    {
      "cell_type": "code",
      "source": [
        "df_1.info()"
      ],
      "metadata": {
        "colab": {
          "base_uri": "https://localhost:8080/"
        },
        "id": "q-Z9g1rSjXKN",
        "outputId": "33d84709-4cf5-4a16-c023-956842f06ac1"
      },
      "execution_count": null,
      "outputs": [
        {
          "output_type": "stream",
          "name": "stdout",
          "text": [
            "<class 'pandas.core.frame.DataFrame'>\n",
            "RangeIndex: 1338 entries, 0 to 1337\n",
            "Data columns (total 8 columns):\n",
            " #   Column          Non-Null Count  Dtype  \n",
            "---  ------          --------------  -----  \n",
            " 0   age             1338 non-null   int64  \n",
            " 1   sex             1338 non-null   int64  \n",
            " 2   bmi             1338 non-null   float64\n",
            " 3   children        1338 non-null   int64  \n",
            " 4   smoker          1338 non-null   int64  \n",
            " 5   region          1338 non-null   int64  \n",
            " 6   charges         1338 non-null   float64\n",
            " 7   insuranceclaim  1338 non-null   int64  \n",
            "dtypes: float64(2), int64(6)\n",
            "memory usage: 83.8 KB\n"
          ]
        }
      ]
    },
    {
      "cell_type": "markdown",
      "source": [
        "4. Вывести информацию о первых пяти строках набора данных."
      ],
      "metadata": {
        "id": "BRhYOwT8kN6n"
      }
    },
    {
      "cell_type": "code",
      "source": [
        "first_six_rows = df_1.head(5)\n",
        "print(first_six_rows)"
      ],
      "metadata": {
        "colab": {
          "base_uri": "https://localhost:8080/"
        },
        "id": "xiV6GUY0wN0z",
        "outputId": "8e1f086b-2f65-49c7-9f9c-8407a4ab5720"
      },
      "execution_count": null,
      "outputs": [
        {
          "output_type": "stream",
          "name": "stdout",
          "text": [
            "   age  sex     bmi  children  smoker  region      charges  insuranceclaim\n",
            "0   19    0  27.900         0       1       3  16884.92400               1\n",
            "1   18    1  33.770         1       0       2   1725.55230               1\n",
            "2   28    1  33.000         3       0       2   4449.46200               0\n",
            "3   33    1  22.705         0       0       1  21984.47061               0\n",
            "4   32    1  28.880         0       0       1   3866.85520               1\n"
          ]
        }
      ]
    },
    {
      "cell_type": "markdown",
      "source": [
        "5. Вывести 10 случайных строк."
      ],
      "metadata": {
        "id": "k1eSliW_liPf"
      }
    },
    {
      "cell_type": "code",
      "source": [
        "print(df_1.sample(10))"
      ],
      "metadata": {
        "colab": {
          "base_uri": "https://localhost:8080/"
        },
        "id": "S87bxusrtWyC",
        "outputId": "5e99d8f6-23b6-40f0-ecf3-18754d6fd10e"
      },
      "execution_count": null,
      "outputs": [
        {
          "output_type": "stream",
          "name": "stdout",
          "text": [
            "      age  sex     bmi  children  smoker  region      charges  insuranceclaim\n",
            "110    54    1  33.630         1       0       1  10825.25370               1\n",
            "617    49    1  25.600         2       1       3  23306.54700               1\n",
            "1218   46    0  34.600         1       1       3  41661.60200               1\n",
            "459    40    0  33.000         3       0       2   7682.67000               0\n",
            "995    39    0  23.275         3       0       0   7986.47525               0\n",
            "317    54    1  32.775         0       0       0  10435.06525               1\n",
            "776    40    1  32.300         2       0       1   6986.69700               0\n",
            "1119   30    0  19.950         3       0       1   5693.43050               0\n",
            "708    31    0  30.495         3       0       0   6113.23105               0\n",
            "571    18    0  37.290         1       0       2   2219.44510               0\n"
          ]
        }
      ]
    },
    {
      "cell_type": "markdown",
      "source": [
        "6. Получить информацию о размере набора данных."
      ],
      "metadata": {
        "id": "ZI-OYj62nC3k"
      }
    },
    {
      "cell_type": "code",
      "source": [
        "print(df_1.shape)"
      ],
      "metadata": {
        "colab": {
          "base_uri": "https://localhost:8080/"
        },
        "id": "4rXh5Og9nFyb",
        "outputId": "1b2e07a3-8e2c-49c2-c9a0-9daa6325dc7b"
      },
      "execution_count": null,
      "outputs": [
        {
          "output_type": "stream",
          "name": "stdout",
          "text": [
            "(1338, 8)\n"
          ]
        }
      ]
    },
    {
      "cell_type": "markdown",
      "source": [
        "7. Извлечем из набора insurance_df все записи мужчин, у которых возраст равен от 19 лет до 22 включительно."
      ],
      "metadata": {
        "id": "6XCirygxpcEB"
      }
    },
    {
      "cell_type": "code",
      "source": [
        "filtered_data = df_1[(df_1['sex'] == 'male') & (df_1['age'] >= 19) & (df_1['age'] <= 22)]\n",
        "print(filtered_data)"
      ],
      "metadata": {
        "colab": {
          "base_uri": "https://localhost:8080/"
        },
        "id": "dib8ZgIhtM9-",
        "outputId": "bd7891a7-c698-4dad-af32-7e009ab84da8"
      },
      "execution_count": null,
      "outputs": [
        {
          "output_type": "stream",
          "name": "stdout",
          "text": [
            "Empty DataFrame\n",
            "Columns: [age, sex, bmi, children, smoker, region, charges, insuranceclaim]\n",
            "Index: []\n"
          ]
        }
      ]
    },
    {
      "cell_type": "markdown",
      "source": [
        "8. Вывести данные для индивидов, проживающих в регионе 3"
      ],
      "metadata": {
        "id": "ZnZCoamC4p6K"
      }
    },
    {
      "cell_type": "code",
      "source": [
        "region_3_data = df_1[df_1['region'] == 3]\n",
        "print(region_3_data)"
      ],
      "metadata": {
        "colab": {
          "base_uri": "https://localhost:8080/"
        },
        "id": "Xd_FiNfJ4piq",
        "outputId": "a19dc042-f05a-49b0-9882-0831f646f575"
      },
      "execution_count": null,
      "outputs": [
        {
          "output_type": "stream",
          "name": "stdout",
          "text": [
            "      age  sex   bmi  children  smoker  region      charges  insuranceclaim\n",
            "0      19    0  27.9         0       1       3  16884.92400               1\n",
            "12     23    1  34.4         0       0       3   1826.84300               1\n",
            "15     19    1  24.6         1       0       3   1837.23700               0\n",
            "18     56    1  40.3         0       0       3  10602.38500               1\n",
            "19     30    1  35.3         0       1       3  36837.46700               1\n",
            "...   ...  ...   ...       ...     ...     ...          ...             ...\n",
            "1316   19    0  20.6         0       0       3   1731.67700               0\n",
            "1329   52    1  38.6         2       0       3  10325.20600               1\n",
            "1331   23    0  33.4         0       0       3  10795.93733               1\n",
            "1332   52    0  44.7         3       0       3  11411.68500               0\n",
            "1336   21    0  25.8         0       0       3   2007.94500               0\n",
            "\n",
            "[325 rows x 8 columns]\n"
          ]
        }
      ]
    },
    {
      "cell_type": "markdown",
      "source": [
        "9. Вывести данные для женщин, которые имеют 2-х и более детей."
      ],
      "metadata": {
        "id": "1b1fWAuY3I6_"
      }
    },
    {
      "cell_type": "code",
      "source": [
        "filtered_data = df_1[(df_1['sex'] == 'female') & (df_1['children'] >= 2)]\n",
        "print(filtered_data)"
      ],
      "metadata": {
        "colab": {
          "base_uri": "https://localhost:8080/"
        },
        "id": "Tqld0SfXt5wG",
        "outputId": "be674bfb-12a9-41b5-fdfc-d9cb3a132b5f"
      },
      "execution_count": null,
      "outputs": [
        {
          "output_type": "stream",
          "name": "stdout",
          "text": [
            "Empty DataFrame\n",
            "Columns: [age, sex, bmi, children, smoker, region, charges, insuranceclaim, index_column]\n",
            "Index: []\n"
          ]
        }
      ]
    },
    {
      "cell_type": "markdown",
      "source": [
        "10. Вывести данные для мужчин, курящих, старше 55 лет."
      ],
      "metadata": {
        "id": "tI7YaCQQ3Ky9"
      }
    },
    {
      "cell_type": "code",
      "source": [
        "filtered_data = df_1[(df_1['sex'] == 'male') & (df_1['smoker'] == 'yes') & (df_1['age'] > 55)]\n",
        "print(filtered_data)"
      ],
      "metadata": {
        "colab": {
          "base_uri": "https://localhost:8080/"
        },
        "id": "OIN__cCIuG8Z",
        "outputId": "1c0685b7-e3d6-4c92-d7ff-4250b7e094ae"
      },
      "execution_count": null,
      "outputs": [
        {
          "output_type": "stream",
          "name": "stdout",
          "text": [
            "Empty DataFrame\n",
            "Columns: [age, sex, bmi, children, smoker, region, charges, insuranceclaim]\n",
            "Index: []\n"
          ]
        }
      ]
    },
    {
      "cell_type": "markdown",
      "source": [
        "\n",
        "11. Рассчитать частоты для категориальных признаков.\n"
      ],
      "metadata": {
        "id": "pZny-MWe5Nij"
      }
    },
    {
      "cell_type": "code",
      "source": [
        "print(df_1['sex'].value_counts())\n",
        "print(df_1['region'].value_counts())\n",
        "print(df_1['smoker'].value_counts())"
      ],
      "metadata": {
        "colab": {
          "base_uri": "https://localhost:8080/"
        },
        "id": "3OL1f1HRuVvO",
        "outputId": "651de631-28d1-46f5-cddb-327c348ab69d"
      },
      "execution_count": null,
      "outputs": [
        {
          "output_type": "stream",
          "name": "stdout",
          "text": [
            "1    676\n",
            "0    662\n",
            "Name: sex, dtype: int64\n",
            "2    364\n",
            "3    325\n",
            "1    325\n",
            "0    324\n",
            "Name: region, dtype: int64\n",
            "0    1064\n",
            "1     274\n",
            "Name: smoker, dtype: int64\n"
          ]
        }
      ]
    },
    {
      "cell_type": "markdown",
      "source": [
        "12. Вывести информацию о численности мужчин и женщин, проживающих в разных регионах"
      ],
      "metadata": {
        "id": "XiGdNfSJ5QM2"
      }
    },
    {
      "cell_type": "code",
      "source": [
        "gender_region_counts = df_1.groupby(['region', 'sex']).size()\n",
        "print(gender_region_counts)"
      ],
      "metadata": {
        "colab": {
          "base_uri": "https://localhost:8080/"
        },
        "id": "8MHsGbpaufyW",
        "outputId": "4587e9c0-f2ca-431e-e8db-f05b51536a2b"
      },
      "execution_count": null,
      "outputs": [
        {
          "output_type": "stream",
          "name": "stdout",
          "text": [
            "region  sex\n",
            "0       0      161\n",
            "        1      163\n",
            "1       0      164\n",
            "        1      161\n",
            "2       0      175\n",
            "        1      189\n",
            "3       0      162\n",
            "        1      163\n",
            "dtype: int64\n"
          ]
        }
      ]
    },
    {
      "cell_type": "markdown",
      "source": [
        "13. Сделать группировку по региону и полу."
      ],
      "metadata": {
        "id": "DuiVWhBF5XV3"
      }
    },
    {
      "cell_type": "code",
      "source": [
        " print(df_1.groupby(['region', 'sex']).count().reset_index())"
      ],
      "metadata": {
        "colab": {
          "base_uri": "https://localhost:8080/"
        },
        "id": "q2kay-VuALMK",
        "outputId": "f725dd2b-6550-40b0-f903-69e78996d59d"
      },
      "execution_count": null,
      "outputs": [
        {
          "output_type": "stream",
          "name": "stdout",
          "text": [
            "   region  sex  age  bmi  children  smoker  charges  insuranceclaim\n",
            "0       0    0  161  161       161     161      161             161\n",
            "1       0    1  163  163       163     163      163             163\n",
            "2       1    0  164  164       164     164      164             164\n",
            "3       1    1  161  161       161     161      161             161\n",
            "4       2    0  175  175       175     175      175             175\n",
            "5       2    1  189  189       189     189      189             189\n",
            "6       3    0  162  162       162     162      162             162\n",
            "7       3    1  163  163       163     163      163             163\n"
          ]
        }
      ]
    },
    {
      "cell_type": "markdown",
      "source": [
        "14. Добавим столбец с индексной переменной."
      ],
      "metadata": {
        "id": "fy1G-EwQ5kTH"
      }
    },
    {
      "cell_type": "code",
      "source": [
        "df_1['index_column'] = range(len(df_1))\n",
        "print(df_1)"
      ],
      "metadata": {
        "id": "l5BmJUNEusr2",
        "colab": {
          "base_uri": "https://localhost:8080/"
        },
        "outputId": "c088cc32-294b-4555-a543-a2cd7f5efac5"
      },
      "execution_count": null,
      "outputs": [
        {
          "output_type": "stream",
          "name": "stdout",
          "text": [
            "      age  sex     bmi  children  smoker  region      charges  insuranceclaim  \\\n",
            "0      19    0  27.900         0       1       3  16884.92400               1   \n",
            "1      18    1  33.770         1       0       2   1725.55230               1   \n",
            "2      28    1  33.000         3       0       2   4449.46200               0   \n",
            "3      33    1  22.705         0       0       1  21984.47061               0   \n",
            "4      32    1  28.880         0       0       1   3866.85520               1   \n",
            "...   ...  ...     ...       ...     ...     ...          ...             ...   \n",
            "1333   50    1  30.970         3       0       1  10600.54830               0   \n",
            "1334   18    0  31.920         0       0       0   2205.98080               1   \n",
            "1335   18    0  36.850         0       0       2   1629.83350               1   \n",
            "1336   21    0  25.800         0       0       3   2007.94500               0   \n",
            "1337   61    0  29.070         0       1       1  29141.36030               1   \n",
            "\n",
            "      index_column  \n",
            "0                0  \n",
            "1                1  \n",
            "2                2  \n",
            "3                3  \n",
            "4                4  \n",
            "...            ...  \n",
            "1333          1333  \n",
            "1334          1334  \n",
            "1335          1335  \n",
            "1336          1336  \n",
            "1337          1337  \n",
            "\n",
            "[1338 rows x 9 columns]\n"
          ]
        }
      ]
    },
    {
      "cell_type": "markdown",
      "source": [
        "15. Сгруппировать данные по столбцу Region (вывести средние значения)."
      ],
      "metadata": {
        "id": "KQ9-QaEP5fYO"
      }
    },
    {
      "cell_type": "code",
      "source": [
        "grouped_by_region = df_1.groupby('region').mean()\n",
        "print(grouped_by_region)"
      ],
      "metadata": {
        "colab": {
          "base_uri": "https://localhost:8080/"
        },
        "id": "wEO0YUCgu6nk",
        "outputId": "24c556a3-72ef-49a1-ae32-c4a29a251373"
      },
      "execution_count": null,
      "outputs": [
        {
          "output_type": "stream",
          "name": "stdout",
          "text": [
            "              age       sex        bmi  children    smoker       charges  \\\n",
            "region                                                                     \n",
            "0       39.268519  0.503086  29.173503  1.046296  0.206790  13406.384516   \n",
            "1       39.196923  0.495385  29.199785  1.147692  0.178462  12417.575374   \n",
            "2       38.939560  0.519231  33.355989  1.049451  0.250000  14735.411438   \n",
            "3       39.455385  0.501538  30.596615  1.141538  0.178462  12346.937377   \n",
            "\n",
            "        insuranceclaim  index_column  \n",
            "region                                \n",
            "0             0.592593    665.148148  \n",
            "1             0.501538    682.796923  \n",
            "2             0.673077    654.010989  \n",
            "3             0.563077    673.772308  \n"
          ]
        }
      ]
    },
    {
      "cell_type": "markdown",
      "source": [
        "16. Сгруппировать данные по столбцу Smoker (вывести средние значения)."
      ],
      "metadata": {
        "id": "x6snY2hS5wGV"
      }
    },
    {
      "cell_type": "code",
      "source": [
        "grouped_by_smoker = df_1.groupby('smoker').mean()\n",
        "print(grouped_by_smoker)\n"
      ],
      "metadata": {
        "colab": {
          "base_uri": "https://localhost:8080/"
        },
        "id": "qx5n-YxFvB96",
        "outputId": "1c11e224-0295-418a-82fa-5f4f4a900c4d"
      },
      "execution_count": null,
      "outputs": [
        {
          "output_type": "stream",
          "name": "stdout",
          "text": [
            "              age       sex        bmi  children    region       charges  \\\n",
            "smoker                                                                     \n",
            "0       39.385338  0.485902  30.651795  1.090226  1.516917   8434.268298   \n",
            "1       38.514599  0.580292  30.708449  1.113139  1.510949  32050.231832   \n",
            "\n",
            "        insuranceclaim  index_column  \n",
            "smoker                                \n",
            "0             0.501880    667.477444  \n",
            "1             0.908759    672.470803  \n"
          ]
        }
      ]
    },
    {
      "cell_type": "markdown",
      "source": [
        "17. Построить точечную диаграмму зависимости медицинских расходов от индекса массы тела застрахованного."
      ],
      "metadata": {
        "id": "Obgpsbeq51fM"
      }
    },
    {
      "cell_type": "code",
      "source": [
        "import matplotlib.pyplot as plt\n",
        "plt.scatter(df_1['bmi'], df_1['charges'])\n",
        "plt.xlabel('BMI')\n",
        "plt.ylabel('Charges')\n",
        "plt.show()"
      ],
      "metadata": {
        "colab": {
          "base_uri": "https://localhost:8080/",
          "height": 449
        },
        "id": "thshn7KBvG-E",
        "outputId": "2ce34a10-24bd-488a-83b7-6b3ae4b2b68c"
      },
      "execution_count": null,
      "outputs": [
        {
          "output_type": "display_data",
          "data": {
            "text/plain": [
              "<Figure size 640x480 with 1 Axes>"
            ],
            "image/png": "[encoded data removed]"
          },
          "metadata": {}
        }
      ]
    },
    {
      "cell_type": "markdown",
      "source": [
        "18. Построить столбчатую диаграмму для категориальной переменной smoker. Необходимо подсчитать число наблюдений с каждым значением фактора, преобразовать полученный объект в DataFrame, переименовать столбец частот встречаемости каждого уровня показателя в выборке, преобразовать индексы строк (уровней показателя smoker) в столбец созданного DataFrame."
      ],
      "metadata": {
        "id": "06sOkfD253v5"
      }
    },
    {
      "cell_type": "code",
      "source": [
        "import pandas as pd\n",
        "import matplotlib.pyplot as plt\n",
        "\n",
        "# Подсчитываем число наблюдений с каждым значением фактора\n",
        "smoker_counts = df_1['smoker'].value_counts()\n",
        "\n",
        "# Преобразуем полученный объект Series в DataFrame и переименуем столбец\n",
        "smoker_counts_df = smoker_counts.to_frame().reset_index()\n",
        "smoker_counts_df.columns = ['smoker', 'frequency']\n",
        "\n",
        "# Строим столбчатую диаграмму\n",
        "plt.bar(smoker_counts_df['smoker'], smoker_counts_df['frequency'])\n",
        "plt.xlabel('Smoker')\n",
        "plt.ylabel('Frequency')\n",
        "plt.show()\n"
      ],
      "metadata": {
        "colab": {
          "base_uri": "https://localhost:8080/",
          "height": 449
        },
        "id": "ppVo8H-tvXjM",
        "outputId": "fbf29ddc-b7a4-47c2-c2d9-70c2322f4b82"
      },
      "execution_count": null,
      "outputs": [
        {
          "output_type": "display_data",
          "data": {
            "text/plain": [
              "<Figure size 640x480 with 1 Axes>"
            ],
            "image/png": "[encoded data removed]"
          },
          "metadata": {}
        }
      ]
    }
  ]
}